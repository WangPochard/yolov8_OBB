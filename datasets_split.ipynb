{
 "cells": [
  {
   "cell_type": "code",
   "execution_count": 20,
   "metadata": {},
   "outputs": [
    {
     "data": {
      "text/plain": [
       "(          m_map  side                                           filepath  \\\n",
       " 0    56845-1B_K    A面             .\\Image\\56845-1B_K\\NG-A面\\A-唇尖缺料-01.jpg   \n",
       " 1    56845-1B_K    A面             .\\Image\\56845-1B_K\\NG-A面\\A-外徑死料-01.jpg   \n",
       " 2    56845-1B_K    A面             .\\Image\\56845-1B_K\\NG-A面\\A-外徑毛邊-01.jpg   \n",
       " 3    56845-1B_K    A面             .\\Image\\56845-1B_K\\NG-A面\\A-外徑毛邊-02.jpg   \n",
       " 4    56845-1B_K    A面             .\\Image\\56845-1B_K\\NG-A面\\A-外徑毛邊-03.jpg   \n",
       " ..          ...   ...                                                ...   \n",
       " 304  68620-1E_K    B面  .\\Image\\68620-1E_K\\OK-B面\\Src-16-Time-13-59-52-...   \n",
       " 305  68620-1E_K    B面  .\\Image\\68620-1E_K\\OK-B面\\Src-17-Time-14-00-00-...   \n",
       " 306  68620-1E_K    B面  .\\Image\\68620-1E_K\\OK-B面\\Src-18-Time-14-00-10-...   \n",
       " 307  68620-1E_K    B面  .\\Image\\68620-1E_K\\OK-B面\\Src-19-Time-14-00-25-...   \n",
       " 308  68620-1E_K    B面  .\\Image\\68620-1E_K\\OK-B面\\Src-20-Time-14-00-36-...   \n",
       " \n",
       "                                  rename  \n",
       " 0     .\\dotadataset\\56845-1B_K_A面_0.jpg  \n",
       " 1     .\\dotadataset\\56845-1B_K_A面_1.jpg  \n",
       " 2     .\\dotadataset\\56845-1B_K_A面_2.jpg  \n",
       " 3     .\\dotadataset\\56845-1B_K_A面_3.jpg  \n",
       " 4     .\\dotadataset\\56845-1B_K_A面_4.jpg  \n",
       " ..                                  ...  \n",
       " 304  .\\dotadataset\\68620-1E_K_B面_68.jpg  \n",
       " 305  .\\dotadataset\\68620-1E_K_B面_69.jpg  \n",
       " 306  .\\dotadataset\\68620-1E_K_B面_70.jpg  \n",
       " 307  .\\dotadataset\\68620-1E_K_B面_71.jpg  \n",
       " 308  .\\dotadataset\\68620-1E_K_B面_72.jpg  \n",
       " \n",
       " [309 rows x 4 columns],\n",
       " 'c:\\\\Users\\\\User\\\\Desktop\\\\C_VSCode\\\\DotaV2_yolov8\\\\DOTAv2.ymal')"
      ]
     },
     "execution_count": 20,
     "metadata": {},
     "output_type": "execute_result"
    }
   ],
   "source": [
    "import pandas as pd\n",
    "import numpy as np\n",
    "import os\n",
    "path = os.getcwd();\n",
    "filename = os.listdir(f\"{path}/textfile/\");\n",
    "ymlfile = os.path.join(path, \"DOTAv2.ymal\")\n",
    "df_meta = pd.read_csv(f\"{path}/textfile/{filename[0]}\", encoding='utf_8_sig')\n",
    "df_meta, ymlfile"
   ]
  },
  {
   "cell_type": "code",
   "execution_count": 43,
   "metadata": {},
   "outputs": [
    {
     "data": {
      "text/plain": [
       "(20,\n",
       " 20,\n",
       " 158,\n",
       " 198,\n",
       "                       jpg                   csv\n",
       " 14   56845-1B_K_B面_61.jpg  56845-1B_K_B面_61.csv\n",
       " 19   56845-1B_K_B面_66.jpg  56845-1B_K_B面_66.csv\n",
       " 26   56845-1B_K_B面_73.jpg  56845-1B_K_B面_73.csv\n",
       " 31   56845-1B_K_B面_78.jpg  56845-1B_K_B面_78.csv\n",
       " 43    57634-1C_K_B面_0.jpg   57634-1C_K_B面_0.csv\n",
       " 54   57634-1C_K_B面_19.jpg  57634-1C_K_B面_19.csv\n",
       " 70   57634-1C_K_B面_33.jpg  57634-1C_K_B面_33.csv\n",
       " 85   57634-1C_K_B面_47.jpg  57634-1C_K_B面_47.csv\n",
       " 108  57634-1C_K_B面_68.jpg  57634-1C_K_B面_68.csv\n",
       " 110   57634-1C_K_B面_7.jpg   57634-1C_K_B面_7.csv\n",
       " 120  67400-1A_K_B面_17.jpg  67400-1A_K_B面_17.csv\n",
       " 123  67400-1A_K_B面_20.jpg  67400-1A_K_B面_20.csv\n",
       " 144  67400-1A_K_B面_51.jpg  67400-1A_K_B面_51.csv\n",
       " 156  68620-1E_K_B面_21.jpg  68620-1E_K_B面_21.csv\n",
       " 167  68620-1E_K_B面_32.jpg  68620-1E_K_B面_32.csv\n",
       " 173  68620-1E_K_B面_38.jpg  68620-1E_K_B面_38.csv\n",
       " 185  68620-1E_K_B面_50.jpg  68620-1E_K_B面_50.csv\n",
       " 188  68620-1E_K_B面_63.jpg  68620-1E_K_B面_63.csv\n",
       " 190  68620-1E_K_B面_65.jpg  68620-1E_K_B面_65.csv\n",
       " 192  68620-1E_K_B面_67.jpg  68620-1E_K_B面_67.csv)"
      ]
     },
     "execution_count": 43,
     "metadata": {},
     "output_type": "execute_result"
    }
   ],
   "source": [
    "filelist = os.listdir(os.path.join(path,\"dotadataset\"))\n",
    "csvlist = [file for file in filelist if file.find(\".csv\") != -1]\n",
    "csvlist_df = pd.DataFrame(csvlist)\n",
    "imglist = [file for file in filelist if (file.find(\".jpg\") != -1 and file.find(\"B面\") != -1)]\n",
    "filelist_df = pd.DataFrame([imglist, csvlist]).T\n",
    "filelist_df.columns = [\"jpg\", \"csv\"]\n",
    "train = filelist_df.sample(frac=0.8)\n",
    "test_and_val = filelist_df.drop(train.index)\n",
    "test = test_and_val.sample(frac=0.5)\n",
    "val = test_and_val.drop(test.index)\n",
    "len(val), len(test), len(train), len(filelist_df), val"
   ]
  },
  {
   "cell_type": "code",
   "execution_count": 51,
   "metadata": {},
   "outputs": [
    {
     "name": "stdout",
     "output_type": "stream",
     "text": [
      "c:\\Users\\User\\Desktop\\C_VSCode\\DotaV2_yolov8\\dotadataset\\57634-1C_K_B面_2.jpg\n"
     ]
    },
    {
     "ename": "UnicodeDecodeError",
     "evalue": "'utf-8' codec can't decode byte 0xff in position 0: invalid start byte",
     "output_type": "error",
     "traceback": [
      "\u001b[1;31m---------------------------------------------------------------------------\u001b[0m",
      "\u001b[1;31mUnicodeDecodeError\u001b[0m                        Traceback (most recent call last)",
      "Cell \u001b[1;32mIn[51], line 16\u001b[0m\n\u001b[0;32m     14\u001b[0m \u001b[38;5;28;01mfor\u001b[39;00m pdfile \u001b[38;5;129;01min\u001b[39;00m list_data[\u001b[38;5;28mdir\u001b[39m][\u001b[38;5;124m\"\u001b[39m\u001b[38;5;124mcsv\u001b[39m\u001b[38;5;124m\"\u001b[39m]:\n\u001b[0;32m     15\u001b[0m     \u001b[38;5;28mprint\u001b[39m(os\u001b[38;5;241m.\u001b[39mpath\u001b[38;5;241m.\u001b[39mjoin(abspath, filename))\n\u001b[1;32m---> 16\u001b[0m     df \u001b[38;5;241m=\u001b[39m \u001b[43mpd\u001b[49m\u001b[38;5;241;43m.\u001b[39;49m\u001b[43mread_csv\u001b[49m\u001b[43m(\u001b[49m\u001b[43mos\u001b[49m\u001b[38;5;241;43m.\u001b[39;49m\u001b[43mpath\u001b[49m\u001b[38;5;241;43m.\u001b[39;49m\u001b[43mjoin\u001b[49m\u001b[43m(\u001b[49m\u001b[43mabspath\u001b[49m\u001b[43m,\u001b[49m\u001b[43m \u001b[49m\u001b[43mfilename\u001b[49m\u001b[43m)\u001b[49m\u001b[43m)\u001b[49m\n\u001b[0;32m     17\u001b[0m     df\u001b[38;5;241m.\u001b[39mto_csv(os\u001b[38;5;241m.\u001b[39mpath\u001b[38;5;241m.\u001b[39mjoin(dirpath, filename))\n\u001b[0;32m     18\u001b[0m \u001b[38;5;28mprint\u001b[39m(\u001b[38;5;28mdir\u001b[39m\u001b[38;5;241m+\u001b[39m\u001b[38;5;124m\"\u001b[39m\u001b[38;5;124m complete...\u001b[39m\u001b[38;5;124m\"\u001b[39m)\n",
      "File \u001b[1;32mc:\\Users\\User\\anaconda3\\envs\\paddleocr\\lib\\site-packages\\pandas\\io\\parsers\\readers.py:948\u001b[0m, in \u001b[0;36mread_csv\u001b[1;34m(filepath_or_buffer, sep, delimiter, header, names, index_col, usecols, dtype, engine, converters, true_values, false_values, skipinitialspace, skiprows, skipfooter, nrows, na_values, keep_default_na, na_filter, verbose, skip_blank_lines, parse_dates, infer_datetime_format, keep_date_col, date_parser, date_format, dayfirst, cache_dates, iterator, chunksize, compression, thousands, decimal, lineterminator, quotechar, quoting, doublequote, escapechar, comment, encoding, encoding_errors, dialect, on_bad_lines, delim_whitespace, low_memory, memory_map, float_precision, storage_options, dtype_backend)\u001b[0m\n\u001b[0;32m    935\u001b[0m kwds_defaults \u001b[38;5;241m=\u001b[39m _refine_defaults_read(\n\u001b[0;32m    936\u001b[0m     dialect,\n\u001b[0;32m    937\u001b[0m     delimiter,\n\u001b[1;32m   (...)\u001b[0m\n\u001b[0;32m    944\u001b[0m     dtype_backend\u001b[38;5;241m=\u001b[39mdtype_backend,\n\u001b[0;32m    945\u001b[0m )\n\u001b[0;32m    946\u001b[0m kwds\u001b[38;5;241m.\u001b[39mupdate(kwds_defaults)\n\u001b[1;32m--> 948\u001b[0m \u001b[38;5;28;01mreturn\u001b[39;00m \u001b[43m_read\u001b[49m\u001b[43m(\u001b[49m\u001b[43mfilepath_or_buffer\u001b[49m\u001b[43m,\u001b[49m\u001b[43m \u001b[49m\u001b[43mkwds\u001b[49m\u001b[43m)\u001b[49m\n",
      "File \u001b[1;32mc:\\Users\\User\\anaconda3\\envs\\paddleocr\\lib\\site-packages\\pandas\\io\\parsers\\readers.py:611\u001b[0m, in \u001b[0;36m_read\u001b[1;34m(filepath_or_buffer, kwds)\u001b[0m\n\u001b[0;32m    608\u001b[0m _validate_names(kwds\u001b[38;5;241m.\u001b[39mget(\u001b[38;5;124m\"\u001b[39m\u001b[38;5;124mnames\u001b[39m\u001b[38;5;124m\"\u001b[39m, \u001b[38;5;28;01mNone\u001b[39;00m))\n\u001b[0;32m    610\u001b[0m \u001b[38;5;66;03m# Create the parser.\u001b[39;00m\n\u001b[1;32m--> 611\u001b[0m parser \u001b[38;5;241m=\u001b[39m TextFileReader(filepath_or_buffer, \u001b[38;5;241m*\u001b[39m\u001b[38;5;241m*\u001b[39mkwds)\n\u001b[0;32m    613\u001b[0m \u001b[38;5;28;01mif\u001b[39;00m chunksize \u001b[38;5;129;01mor\u001b[39;00m iterator:\n\u001b[0;32m    614\u001b[0m     \u001b[38;5;28;01mreturn\u001b[39;00m parser\n",
      "File \u001b[1;32mc:\\Users\\User\\anaconda3\\envs\\paddleocr\\lib\\site-packages\\pandas\\io\\parsers\\readers.py:1448\u001b[0m, in \u001b[0;36mTextFileReader.__init__\u001b[1;34m(self, f, engine, **kwds)\u001b[0m\n\u001b[0;32m   1445\u001b[0m     \u001b[38;5;28mself\u001b[39m\u001b[38;5;241m.\u001b[39moptions[\u001b[38;5;124m\"\u001b[39m\u001b[38;5;124mhas_index_names\u001b[39m\u001b[38;5;124m\"\u001b[39m] \u001b[38;5;241m=\u001b[39m kwds[\u001b[38;5;124m\"\u001b[39m\u001b[38;5;124mhas_index_names\u001b[39m\u001b[38;5;124m\"\u001b[39m]\n\u001b[0;32m   1447\u001b[0m \u001b[38;5;28mself\u001b[39m\u001b[38;5;241m.\u001b[39mhandles: IOHandles \u001b[38;5;241m|\u001b[39m \u001b[38;5;28;01mNone\u001b[39;00m \u001b[38;5;241m=\u001b[39m \u001b[38;5;28;01mNone\u001b[39;00m\n\u001b[1;32m-> 1448\u001b[0m \u001b[38;5;28mself\u001b[39m\u001b[38;5;241m.\u001b[39m_engine \u001b[38;5;241m=\u001b[39m \u001b[38;5;28;43mself\u001b[39;49m\u001b[38;5;241;43m.\u001b[39;49m\u001b[43m_make_engine\u001b[49m\u001b[43m(\u001b[49m\u001b[43mf\u001b[49m\u001b[43m,\u001b[49m\u001b[43m \u001b[49m\u001b[38;5;28;43mself\u001b[39;49m\u001b[38;5;241;43m.\u001b[39;49m\u001b[43mengine\u001b[49m\u001b[43m)\u001b[49m\n",
      "File \u001b[1;32mc:\\Users\\User\\anaconda3\\envs\\paddleocr\\lib\\site-packages\\pandas\\io\\parsers\\readers.py:1723\u001b[0m, in \u001b[0;36mTextFileReader._make_engine\u001b[1;34m(self, f, engine)\u001b[0m\n\u001b[0;32m   1720\u001b[0m     \u001b[38;5;28;01mraise\u001b[39;00m \u001b[38;5;167;01mValueError\u001b[39;00m(msg)\n\u001b[0;32m   1722\u001b[0m \u001b[38;5;28;01mtry\u001b[39;00m:\n\u001b[1;32m-> 1723\u001b[0m     \u001b[38;5;28;01mreturn\u001b[39;00m mapping[engine](f, \u001b[38;5;241m*\u001b[39m\u001b[38;5;241m*\u001b[39m\u001b[38;5;28mself\u001b[39m\u001b[38;5;241m.\u001b[39moptions)\n\u001b[0;32m   1724\u001b[0m \u001b[38;5;28;01mexcept\u001b[39;00m \u001b[38;5;167;01mException\u001b[39;00m:\n\u001b[0;32m   1725\u001b[0m     \u001b[38;5;28;01mif\u001b[39;00m \u001b[38;5;28mself\u001b[39m\u001b[38;5;241m.\u001b[39mhandles \u001b[38;5;129;01mis\u001b[39;00m \u001b[38;5;129;01mnot\u001b[39;00m \u001b[38;5;28;01mNone\u001b[39;00m:\n",
      "File \u001b[1;32mc:\\Users\\User\\anaconda3\\envs\\paddleocr\\lib\\site-packages\\pandas\\io\\parsers\\c_parser_wrapper.py:93\u001b[0m, in \u001b[0;36mCParserWrapper.__init__\u001b[1;34m(self, src, **kwds)\u001b[0m\n\u001b[0;32m     90\u001b[0m \u001b[38;5;28;01mif\u001b[39;00m kwds[\u001b[38;5;124m\"\u001b[39m\u001b[38;5;124mdtype_backend\u001b[39m\u001b[38;5;124m\"\u001b[39m] \u001b[38;5;241m==\u001b[39m \u001b[38;5;124m\"\u001b[39m\u001b[38;5;124mpyarrow\u001b[39m\u001b[38;5;124m\"\u001b[39m:\n\u001b[0;32m     91\u001b[0m     \u001b[38;5;66;03m# Fail here loudly instead of in cython after reading\u001b[39;00m\n\u001b[0;32m     92\u001b[0m     import_optional_dependency(\u001b[38;5;124m\"\u001b[39m\u001b[38;5;124mpyarrow\u001b[39m\u001b[38;5;124m\"\u001b[39m)\n\u001b[1;32m---> 93\u001b[0m \u001b[38;5;28mself\u001b[39m\u001b[38;5;241m.\u001b[39m_reader \u001b[38;5;241m=\u001b[39m parsers\u001b[38;5;241m.\u001b[39mTextReader(src, \u001b[38;5;241m*\u001b[39m\u001b[38;5;241m*\u001b[39mkwds)\n\u001b[0;32m     95\u001b[0m \u001b[38;5;28mself\u001b[39m\u001b[38;5;241m.\u001b[39munnamed_cols \u001b[38;5;241m=\u001b[39m \u001b[38;5;28mself\u001b[39m\u001b[38;5;241m.\u001b[39m_reader\u001b[38;5;241m.\u001b[39munnamed_cols\n\u001b[0;32m     97\u001b[0m \u001b[38;5;66;03m# error: Cannot determine type of 'names'\u001b[39;00m\n",
      "File \u001b[1;32mparsers.pyx:579\u001b[0m, in \u001b[0;36mpandas._libs.parsers.TextReader.__cinit__\u001b[1;34m()\u001b[0m\n",
      "File \u001b[1;32mparsers.pyx:668\u001b[0m, in \u001b[0;36mpandas._libs.parsers.TextReader._get_header\u001b[1;34m()\u001b[0m\n",
      "File \u001b[1;32mparsers.pyx:879\u001b[0m, in \u001b[0;36mpandas._libs.parsers.TextReader._tokenize_rows\u001b[1;34m()\u001b[0m\n",
      "File \u001b[1;32mparsers.pyx:890\u001b[0m, in \u001b[0;36mpandas._libs.parsers.TextReader._check_tokenize_status\u001b[1;34m()\u001b[0m\n",
      "File \u001b[1;32mparsers.pyx:2050\u001b[0m, in \u001b[0;36mpandas._libs.parsers.raise_parser_error\u001b[1;34m()\u001b[0m\n",
      "\u001b[1;31mUnicodeDecodeError\u001b[0m: 'utf-8' codec can't decode byte 0xff in position 0: invalid start byte"
     ]
    }
   ],
   "source": [
    "from PIL import Image\n",
    "import cv2\n",
    "abspath = os.path.join(path,\"dotadataset\")\n",
    "list_data = {\"train\":train,\n",
    "             \"test\":test,\n",
    "             \"val\":val}\n",
    "for dir in list_data.keys():\n",
    "    dirpath = os.path.join(os.path.join(path, \"images\"), dir)\n",
    "    for filename in list_data[dir][\"jpg\"]:\n",
    "        # print(os.path.join(abspath, filename))\n",
    "        img = Image.open(os.path.join(abspath, filename))\n",
    "        img.save(os.path.join(dirpath, filename))\n",
    "    for pdfile in list_data[dir][\"csv\"]:\n",
    "        print(os.path.join(abspath, pdfile))\n",
    "        df = pd.read_csv(os.path.join(abspath, pdfile))\n",
    "        df.to_csv(os.path.join(dirpath, pdfile))\n",
    "    print(dir+\" complete...\")\n"
   ]
  },
  {
   "cell_type": "code",
   "execution_count": null,
   "metadata": {},
   "outputs": [],
   "source": []
  }
 ],
 "metadata": {
  "kernelspec": {
   "display_name": "paddleocr",
   "language": "python",
   "name": "python3"
  },
  "language_info": {
   "codemirror_mode": {
    "name": "ipython",
    "version": 3
   },
   "file_extension": ".py",
   "mimetype": "text/x-python",
   "name": "python",
   "nbconvert_exporter": "python",
   "pygments_lexer": "ipython3",
   "version": "3.10.13"
  }
 },
 "nbformat": 4,
 "nbformat_minor": 2
}
